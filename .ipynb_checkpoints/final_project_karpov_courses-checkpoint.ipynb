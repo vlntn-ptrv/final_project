{
 "cells": [
  {
   "cell_type": "markdown",
   "metadata": {},
   "source": [
    "<h3>Задание 1. A/B–тестирование</h3>\n",
    "<h4>1.1 Условие</h4>\n",
    "\n",
    "Одной из основных задач аналитика в нашей команде является корректное проведение экспериментов. Для этого мы применяем метод A/B–тестирования. В ходе тестирования одной гипотезы целевой группе была предложена новая механика оплаты услуг на сайте, у контрольной группы оставалась базовая механика. В качестве задания Вам необходимо проанализировать итоги эксперимента и сделать вывод, стоит ли запускать новую механику оплаты на всех пользователей.\n",
    "\n",
    "<h4>1.2 Входные данные</h4>\n",
    "\n",
    "В качестве входных данных Вы имеете 4 csv-файла:\n",
    "\n",
    "**groups.csv** - файл с информацией о принадлежности пользователя к контрольной или экспериментальной группе (А – контроль, B – целевая группа). <br> \n",
    "**groups_add.csv** - дополнительный файл с пользователями, который вам прислали спустя 2 дня после передачи данных. <br>\n",
    "**active_studs.csv** - файл с информацией о пользователях, которые зашли на платформу в дни проведения эксперимента. <br>\n",
    "**checks.csv** - файл с информацией об оплатах пользователей в дни проведения эксперимента. \n",
    "<h4>1.3 Вопросы</h4>\n",
    "\n",
    "Предлагаем Вам ответить на следующие вопросы:\n",
    "\n",
    "- На какие метрики Вы смотрите в ходе анализа и почему?\n",
    "- Имеются ли различия в показателях и с чем они могут быть связаны?\n",
    "- Являются ли эти различия статистически значимыми?\n",
    "- Стоит ли запускать новую механику на всех пользователей?\n",
    "\n",
    "Данный список вопросов не является обязательным, и Вы можете при своём ответе опираться на собственный план.\n",
    "\n",
    "<h4>1.4 Требования к ответу</h4>\n",
    "\n",
    "При выполнении тестового задания необходимо использовать язык программирования Python. <br>\n",
    "В файле обязательно должны быть комментарии к тем действиям, которые Вы выполняете с данными. <br> \n",
    "Файл должен представлять собой законченный отчёт с выводами, сделанными в ходе исследования. <br>"
   ]
  },
  {
   "cell_type": "code",
   "execution_count": 1,
   "metadata": {},
   "outputs": [],
   "source": [
    "import pandas as pd\n",
    "import numpy as np\n",
    "from scipy import stats\n",
    "\n",
    "from matplotlib import pyplot as plt\n",
    "%matplotlib inline\n",
    "import seaborn as sns"
   ]
  },
  {
   "cell_type": "markdown",
   "metadata": {},
   "source": [
    "Загрузим данные, названия - как у оригинальных файлов:"
   ]
  },
  {
   "cell_type": "code",
   "execution_count": 2,
   "metadata": {},
   "outputs": [],
   "source": [
    "active_studs = pd.read_csv('/mnt/HC_Volume_18315164/home-jupyter/jupyter-v-petrova-25/FINAL/Проект_2_active_studs.csv')\n",
    "checks = pd.read_csv('/mnt/HC_Volume_18315164/home-jupyter/jupyter-v-petrova-25/FINAL/Проект_2_checks.csv', sep = ';')\n",
    "groups = pd.read_csv('/mnt/HC_Volume_18315164/home-jupyter/jupyter-v-petrova-25/FINAL/Проект_2_groups.csv', sep = ';')\n",
    "group_add = pd.read_csv('/mnt/HC_Volume_18315164/home-jupyter/jupyter-v-petrova-25/FINAL/Проект_2_group_add.csv')"
   ]
  },
  {
   "cell_type": "markdown",
   "metadata": {},
   "source": [
    "Для начала соберём данные по группам пользователей в один датафрейм:"
   ]
  },
  {
   "cell_type": "code",
   "execution_count": 3,
   "metadata": {},
   "outputs": [],
   "source": [
    "groups_full = groups.merge(group_add, on = ['id', 'grp'], how = 'outer')"
   ]
  },
  {
   "cell_type": "code",
   "execution_count": 4,
   "metadata": {},
   "outputs": [
    {
     "data": {
      "text/html": [
       "<div>\n",
       "<style scoped>\n",
       "    .dataframe tbody tr th:only-of-type {\n",
       "        vertical-align: middle;\n",
       "    }\n",
       "\n",
       "    .dataframe tbody tr th {\n",
       "        vertical-align: top;\n",
       "    }\n",
       "\n",
       "    .dataframe thead th {\n",
       "        text-align: right;\n",
       "    }\n",
       "</style>\n",
       "<table border=\"1\" class=\"dataframe\">\n",
       "  <thead>\n",
       "    <tr style=\"text-align: right;\">\n",
       "      <th></th>\n",
       "      <th>id</th>\n",
       "      <th>grp</th>\n",
       "    </tr>\n",
       "  </thead>\n",
       "  <tbody>\n",
       "    <tr>\n",
       "      <th>0</th>\n",
       "      <td>1489</td>\n",
       "      <td>B</td>\n",
       "    </tr>\n",
       "    <tr>\n",
       "      <th>1</th>\n",
       "      <td>1627</td>\n",
       "      <td>A</td>\n",
       "    </tr>\n",
       "    <tr>\n",
       "      <th>2</th>\n",
       "      <td>1768</td>\n",
       "      <td>B</td>\n",
       "    </tr>\n",
       "    <tr>\n",
       "      <th>3</th>\n",
       "      <td>1783</td>\n",
       "      <td>B</td>\n",
       "    </tr>\n",
       "    <tr>\n",
       "      <th>4</th>\n",
       "      <td>1794</td>\n",
       "      <td>A</td>\n",
       "    </tr>\n",
       "  </tbody>\n",
       "</table>\n",
       "</div>"
      ],
      "text/plain": [
       "     id grp\n",
       "0  1489   B\n",
       "1  1627   A\n",
       "2  1768   B\n",
       "3  1783   B\n",
       "4  1794   A"
      ]
     },
     "execution_count": 4,
     "metadata": {},
     "output_type": "execute_result"
    }
   ],
   "source": [
    "groups_full.head()"
   ]
  },
  {
   "cell_type": "markdown",
   "metadata": {},
   "source": [
    "Проверим, что система сплита работает корректно и ни один пользователь не попал в обе группы сразу или не попал ни в одну, а также уберём дубликаты, если они есть:"
   ]
  },
  {
   "cell_type": "code",
   "execution_count": 5,
   "metadata": {},
   "outputs": [
    {
     "data": {
      "text/plain": [
       "1    74576\n",
       "Name: grp, dtype: int64"
      ]
     },
     "execution_count": 5,
     "metadata": {},
     "output_type": "execute_result"
    }
   ],
   "source": [
    "groups_full.groupby('id').agg({'grp': 'count'}).grp.value_counts()"
   ]
  },
  {
   "cell_type": "code",
   "execution_count": 6,
   "metadata": {},
   "outputs": [
    {
     "data": {
      "text/html": [
       "<div>\n",
       "<style scoped>\n",
       "    .dataframe tbody tr th:only-of-type {\n",
       "        vertical-align: middle;\n",
       "    }\n",
       "\n",
       "    .dataframe tbody tr th {\n",
       "        vertical-align: top;\n",
       "    }\n",
       "\n",
       "    .dataframe thead th {\n",
       "        text-align: right;\n",
       "    }\n",
       "</style>\n",
       "<table border=\"1\" class=\"dataframe\">\n",
       "  <thead>\n",
       "    <tr style=\"text-align: right;\">\n",
       "      <th></th>\n",
       "      <th>id</th>\n",
       "    </tr>\n",
       "    <tr>\n",
       "      <th>grp</th>\n",
       "      <th></th>\n",
       "    </tr>\n",
       "  </thead>\n",
       "  <tbody>\n",
       "    <tr>\n",
       "      <th>A</th>\n",
       "      <td>14693</td>\n",
       "    </tr>\n",
       "    <tr>\n",
       "      <th>B</th>\n",
       "      <td>59883</td>\n",
       "    </tr>\n",
       "  </tbody>\n",
       "</table>\n",
       "</div>"
      ],
      "text/plain": [
       "        id\n",
       "grp       \n",
       "A    14693\n",
       "B    59883"
      ]
     },
     "execution_count": 6,
     "metadata": {},
     "output_type": "execute_result"
    }
   ],
   "source": [
    "groups_full.groupby('grp').agg({'id': 'count'})"
   ]
  },
  {
   "cell_type": "code",
   "execution_count": 7,
   "metadata": {},
   "outputs": [
    {
     "data": {
      "text/plain": [
       "74576"
      ]
     },
     "execution_count": 7,
     "metadata": {},
     "output_type": "execute_result"
    }
   ],
   "source": [
    "groups_full = groups_full.drop_duplicates(subset = 'id')\n",
    "groups_full.shape[0]"
   ]
  },
  {
   "cell_type": "markdown",
   "metadata": {},
   "source": [
    "Видим, что дубликатов в записях нет и каждый пользователь попал только в одну группу, как и предполагалось.<br>\n",
    "Теперь проверим на дубликаты остальные данные:"
   ]
  },
  {
   "cell_type": "code",
   "execution_count": 8,
   "metadata": {},
   "outputs": [
    {
     "data": {
      "text/html": [
       "<div>\n",
       "<style scoped>\n",
       "    .dataframe tbody tr th:only-of-type {\n",
       "        vertical-align: middle;\n",
       "    }\n",
       "\n",
       "    .dataframe tbody tr th {\n",
       "        vertical-align: top;\n",
       "    }\n",
       "\n",
       "    .dataframe thead th {\n",
       "        text-align: right;\n",
       "    }\n",
       "</style>\n",
       "<table border=\"1\" class=\"dataframe\">\n",
       "  <thead>\n",
       "    <tr style=\"text-align: right;\">\n",
       "      <th></th>\n",
       "      <th>student_id</th>\n",
       "    </tr>\n",
       "  </thead>\n",
       "  <tbody>\n",
       "    <tr>\n",
       "      <th>0</th>\n",
       "      <td>581585</td>\n",
       "    </tr>\n",
       "    <tr>\n",
       "      <th>1</th>\n",
       "      <td>5723133</td>\n",
       "    </tr>\n",
       "    <tr>\n",
       "      <th>2</th>\n",
       "      <td>3276743</td>\n",
       "    </tr>\n",
       "    <tr>\n",
       "      <th>3</th>\n",
       "      <td>4238589</td>\n",
       "    </tr>\n",
       "    <tr>\n",
       "      <th>4</th>\n",
       "      <td>4475369</td>\n",
       "    </tr>\n",
       "  </tbody>\n",
       "</table>\n",
       "</div>"
      ],
      "text/plain": [
       "   student_id\n",
       "0      581585\n",
       "1     5723133\n",
       "2     3276743\n",
       "3     4238589\n",
       "4     4475369"
      ]
     },
     "execution_count": 8,
     "metadata": {},
     "output_type": "execute_result"
    }
   ],
   "source": [
    "active_studs.head()"
   ]
  },
  {
   "cell_type": "code",
   "execution_count": 9,
   "metadata": {},
   "outputs": [
    {
     "data": {
      "text/plain": [
       "8341"
      ]
     },
     "execution_count": 9,
     "metadata": {},
     "output_type": "execute_result"
    }
   ],
   "source": [
    "active_studs.shape[0]"
   ]
  },
  {
   "cell_type": "code",
   "execution_count": 10,
   "metadata": {},
   "outputs": [
    {
     "data": {
      "text/plain": [
       "8341"
      ]
     },
     "execution_count": 10,
     "metadata": {},
     "output_type": "execute_result"
    }
   ],
   "source": [
    "active_studs = active_studs.drop_duplicates()\n",
    "active_studs.shape[0]"
   ]
  },
  {
   "cell_type": "code",
   "execution_count": 11,
   "metadata": {},
   "outputs": [
    {
     "data": {
      "text/html": [
       "<div>\n",
       "<style scoped>\n",
       "    .dataframe tbody tr th:only-of-type {\n",
       "        vertical-align: middle;\n",
       "    }\n",
       "\n",
       "    .dataframe tbody tr th {\n",
       "        vertical-align: top;\n",
       "    }\n",
       "\n",
       "    .dataframe thead th {\n",
       "        text-align: right;\n",
       "    }\n",
       "</style>\n",
       "<table border=\"1\" class=\"dataframe\">\n",
       "  <thead>\n",
       "    <tr style=\"text-align: right;\">\n",
       "      <th></th>\n",
       "      <th>student_id</th>\n",
       "      <th>rev</th>\n",
       "    </tr>\n",
       "  </thead>\n",
       "  <tbody>\n",
       "    <tr>\n",
       "      <th>0</th>\n",
       "      <td>1627</td>\n",
       "      <td>990.0</td>\n",
       "    </tr>\n",
       "    <tr>\n",
       "      <th>1</th>\n",
       "      <td>3185</td>\n",
       "      <td>690.0</td>\n",
       "    </tr>\n",
       "    <tr>\n",
       "      <th>2</th>\n",
       "      <td>25973</td>\n",
       "      <td>690.0</td>\n",
       "    </tr>\n",
       "    <tr>\n",
       "      <th>3</th>\n",
       "      <td>26280</td>\n",
       "      <td>690.0</td>\n",
       "    </tr>\n",
       "    <tr>\n",
       "      <th>4</th>\n",
       "      <td>100300</td>\n",
       "      <td>990.0</td>\n",
       "    </tr>\n",
       "  </tbody>\n",
       "</table>\n",
       "</div>"
      ],
      "text/plain": [
       "   student_id    rev\n",
       "0        1627  990.0\n",
       "1        3185  690.0\n",
       "2       25973  690.0\n",
       "3       26280  690.0\n",
       "4      100300  990.0"
      ]
     },
     "execution_count": 11,
     "metadata": {},
     "output_type": "execute_result"
    }
   ],
   "source": [
    "checks.head()"
   ]
  },
  {
   "cell_type": "code",
   "execution_count": 12,
   "metadata": {},
   "outputs": [
    {
     "data": {
      "text/plain": [
       "541"
      ]
     },
     "execution_count": 12,
     "metadata": {},
     "output_type": "execute_result"
    }
   ],
   "source": [
    "checks.shape[0]"
   ]
  },
  {
   "cell_type": "code",
   "execution_count": 13,
   "metadata": {},
   "outputs": [
    {
     "data": {
      "text/plain": [
       "541"
      ]
     },
     "execution_count": 13,
     "metadata": {},
     "output_type": "execute_result"
    }
   ],
   "source": [
    "checks = checks.drop_duplicates()\n",
    "checks.shape[0]"
   ]
  },
  {
   "cell_type": "markdown",
   "metadata": {},
   "source": [
    "Мы видим, что каждый студент попал в данные по активности только единожды и все транзакции попали в данные по покупкам также единожды.<br>\n",
    "При этом мы видим, что в данных по активным студентам попало значительно меньше человек, чем участвовало в эксперименте.\n",
    "\n",
    "Также можно сразу посмотреть данные по повторным покупкам:"
   ]
  },
  {
   "cell_type": "code",
   "execution_count": 14,
   "metadata": {},
   "outputs": [
    {
     "data": {
      "text/plain": [
       "1"
      ]
     },
     "execution_count": 14,
     "metadata": {},
     "output_type": "execute_result"
    }
   ],
   "source": [
    "checks.groupby('student_id').agg({'rev':'count'}).rev.nunique()"
   ]
  },
  {
   "cell_type": "markdown",
   "metadata": {},
   "source": [
    "Получается, что в данных нет повторных покупок, каждый студент, попавший в данные, совершил только одну транзакцию за время эксперимента."
   ]
  },
  {
   "cell_type": "markdown",
   "metadata": {},
   "source": [
    "Соединяем объединённые данные по группам с данными по активности студентов и их чекам. В первом случае будет inner join, поскольку нас интересуют только те участники, которые были активны во время эксперимента, во втором - left, поскольку нас интересуют все их покупки (или их отсутствие)."
   ]
  },
  {
   "cell_type": "code",
   "execution_count": 15,
   "metadata": {},
   "outputs": [],
   "source": [
    "df = active_studs.merge(groups_full.rename(columns = {'id': 'student_id'}), how = 'inner').merge(checks, how = 'left')\n",
    "df['rev'] = df.rev.fillna(0)"
   ]
  },
  {
   "cell_type": "code",
   "execution_count": 16,
   "metadata": {},
   "outputs": [
    {
     "data": {
      "text/html": [
       "<div>\n",
       "<style scoped>\n",
       "    .dataframe tbody tr th:only-of-type {\n",
       "        vertical-align: middle;\n",
       "    }\n",
       "\n",
       "    .dataframe tbody tr th {\n",
       "        vertical-align: top;\n",
       "    }\n",
       "\n",
       "    .dataframe thead th {\n",
       "        text-align: right;\n",
       "    }\n",
       "</style>\n",
       "<table border=\"1\" class=\"dataframe\">\n",
       "  <thead>\n",
       "    <tr style=\"text-align: right;\">\n",
       "      <th></th>\n",
       "      <th>student_id</th>\n",
       "      <th>grp</th>\n",
       "      <th>rev</th>\n",
       "    </tr>\n",
       "  </thead>\n",
       "  <tbody>\n",
       "    <tr>\n",
       "      <th>0</th>\n",
       "      <td>581585</td>\n",
       "      <td>A</td>\n",
       "      <td>0.0</td>\n",
       "    </tr>\n",
       "    <tr>\n",
       "      <th>1</th>\n",
       "      <td>5723133</td>\n",
       "      <td>A</td>\n",
       "      <td>0.0</td>\n",
       "    </tr>\n",
       "    <tr>\n",
       "      <th>2</th>\n",
       "      <td>3276743</td>\n",
       "      <td>B</td>\n",
       "      <td>0.0</td>\n",
       "    </tr>\n",
       "    <tr>\n",
       "      <th>3</th>\n",
       "      <td>4238589</td>\n",
       "      <td>A</td>\n",
       "      <td>0.0</td>\n",
       "    </tr>\n",
       "    <tr>\n",
       "      <th>4</th>\n",
       "      <td>4475369</td>\n",
       "      <td>B</td>\n",
       "      <td>0.0</td>\n",
       "    </tr>\n",
       "  </tbody>\n",
       "</table>\n",
       "</div>"
      ],
      "text/plain": [
       "   student_id grp  rev\n",
       "0      581585   A  0.0\n",
       "1     5723133   A  0.0\n",
       "2     3276743   B  0.0\n",
       "3     4238589   A  0.0\n",
       "4     4475369   B  0.0"
      ]
     },
     "execution_count": 16,
     "metadata": {},
     "output_type": "execute_result"
    }
   ],
   "source": [
    "df.head()"
   ]
  },
  {
   "cell_type": "code",
   "execution_count": 17,
   "metadata": {},
   "outputs": [
    {
     "data": {
      "text/plain": [
       "8341"
      ]
     },
     "execution_count": 17,
     "metadata": {},
     "output_type": "execute_result"
    }
   ],
   "source": [
    "df.shape[0]"
   ]
  },
  {
   "cell_type": "markdown",
   "metadata": {},
   "source": [
    "Посмотрим количество студентов в каждой из групп:"
   ]
  },
  {
   "cell_type": "code",
   "execution_count": 18,
   "metadata": {},
   "outputs": [
    {
     "data": {
      "text/plain": [
       "<matplotlib.axes._subplots.AxesSubplot at 0x7fc97ecbcef0>"
      ]
     },
     "execution_count": 18,
     "metadata": {},
     "output_type": "execute_result"
    },
    {
     "data": {
      "image/png": "[encoded data removed]",
      "text/plain": [
       "<Figure size 432x288 with 1 Axes>"
      ]
     },
     "metadata": {
      "needs_background": "light"
     },
     "output_type": "display_data"
    }
   ],
   "source": [
    "sns.countplot(x = df.grp)"
   ]
  },
  {
   "cell_type": "code",
   "execution_count": 19,
   "metadata": {},
   "outputs": [
    {
     "data": {
      "text/plain": [
       "grp\n",
       "A    1538\n",
       "B    6803\n",
       "Name: student_id, dtype: int64"
      ]
     },
     "execution_count": 19,
     "metadata": {},
     "output_type": "execute_result"
    }
   ],
   "source": [
    "df.groupby('grp').student_id.nunique()"
   ]
  },
  {
   "cell_type": "markdown",
   "metadata": {},
   "source": [
    "Мы видим, что контрольная группа получилась в несколько раз меньше, чем целевая. Для более корректной статистической оценки лучше использовать группы примерно одинакового размера."
   ]
  },
  {
   "cell_type": "markdown",
   "metadata": {},
   "source": [
    "Для оценки различий посмотрим на классические метрики: конверсию в покупку, ARPU, ARPPU. Выведем их в отдельный датафрейм для удобства:"
   ]
  },
  {
   "cell_type": "code",
   "execution_count": 20,
   "metadata": {},
   "outputs": [],
   "source": [
    "df_metrics = pd.DataFrame()\n",
    "\n",
    "#количество студентов в группах\n",
    "df_metrics['students'] = df.groupby('grp').agg({'student_id': 'count'}).student_id\n",
    "#количество покупок\n",
    "df_metrics['purchases'] = df.query('rev > 0').groupby('grp').agg({'student_id': 'count'}).student_id\n",
    "#конверсия\n",
    "df_metrics['CR'] = np.round(df_metrics.purchases / df_metrics.students * 100, 2)\n",
    "#ARPU\n",
    "df_metrics['ARPU'] = np.round(df.groupby('grp').agg({'rev': 'sum'}).rev / df_metrics.students)\n",
    "#ARPPU\n",
    "df_metrics['ARPPU'] = np.round(df.query('rev > 0').groupby('grp').agg({'rev': 'sum'}).rev / df_metrics.purchases)"
   ]
  },
  {
   "cell_type": "code",
   "execution_count": 21,
   "metadata": {
    "scrolled": true
   },
   "outputs": [
    {
     "data": {
      "text/html": [
       "<div>\n",
       "<style scoped>\n",
       "    .dataframe tbody tr th:only-of-type {\n",
       "        vertical-align: middle;\n",
       "    }\n",
       "\n",
       "    .dataframe tbody tr th {\n",
       "        vertical-align: top;\n",
       "    }\n",
       "\n",
       "    .dataframe thead th {\n",
       "        text-align: right;\n",
       "    }\n",
       "</style>\n",
       "<table border=\"1\" class=\"dataframe\">\n",
       "  <thead>\n",
       "    <tr style=\"text-align: right;\">\n",
       "      <th></th>\n",
       "      <th>students</th>\n",
       "      <th>purchases</th>\n",
       "      <th>CR</th>\n",
       "      <th>ARPU</th>\n",
       "      <th>ARPPU</th>\n",
       "    </tr>\n",
       "  </thead>\n",
       "  <tbody>\n",
       "    <tr>\n",
       "      <th>A</th>\n",
       "      <td>1538</td>\n",
       "      <td>78</td>\n",
       "      <td>5.07</td>\n",
       "      <td>47.0</td>\n",
       "      <td>934.0</td>\n",
       "    </tr>\n",
       "    <tr>\n",
       "      <th>B</th>\n",
       "      <td>6803</td>\n",
       "      <td>314</td>\n",
       "      <td>4.62</td>\n",
       "      <td>58.0</td>\n",
       "      <td>1258.0</td>\n",
       "    </tr>\n",
       "  </tbody>\n",
       "</table>\n",
       "</div>"
      ],
      "text/plain": [
       "   students  purchases    CR  ARPU   ARPPU\n",
       "A      1538         78  5.07  47.0   934.0\n",
       "B      6803        314  4.62  58.0  1258.0"
      ]
     },
     "execution_count": 21,
     "metadata": {},
     "output_type": "execute_result"
    }
   ],
   "source": [
    "df_metrics"
   ]
  },
  {
   "cell_type": "markdown",
   "metadata": {},
   "source": [
    "При этом нужно учитывать, что каждый из студентов, попавших в датафрейм checks, совершил покупку только один раз, поэтому средний чек в данном случае будет равен ARPPU."
   ]
  },
  {
   "cell_type": "markdown",
   "metadata": {},
   "source": [
    "Итак, мы видим, что различия в метриках по группам есть, однако необходимо оценить их значимость.\n",
    "\n",
    "Посмотрим на распределение чеков в группах:"
   ]
  },
  {
   "cell_type": "code",
   "execution_count": 22,
   "metadata": {},
   "outputs": [
    {
     "data": {
      "text/plain": [
       "<seaborn.axisgrid.FacetGrid at 0x7fc97c6e6be0>"
      ]
     },
     "execution_count": 22,
     "metadata": {},
     "output_type": "execute_result"
    },
    {
     "data": {
      "text/plain": [
       "<Figure size 288x288 with 0 Axes>"
      ]
     },
     "metadata": {},
     "output_type": "display_data"
    },
    {
     "data": {
      "image/png": "[encoded data removed]",
      "text/plain": [
       "<Figure size 324x216 with 1 Axes>"
      ]
     },
     "metadata": {
      "needs_background": "light"
     },
     "output_type": "display_data"
    },
    {
     "data": {
      "image/png": "[encoded data removed]",
      "text/plain": [
       "<Figure size 324x216 with 1 Axes>"
      ]
     },
     "metadata": {
      "needs_background": "light"
     },
     "output_type": "display_data"
    }
   ],
   "source": [
    "plt.figure(figsize=(4,4))\n",
    "sns.displot(data = df.query('rev > 0 and grp == \"A\"'), x = 'rev', height=3, aspect=1.5)\n",
    "sns.displot(data = df.query('rev > 0 and grp == \"B\"'), x = 'rev', height=3, aspect=1.5)"
   ]
  },
  {
   "cell_type": "markdown",
   "metadata": {},
   "source": [
    "Видно изменение формы распределения чеков: доля малых (приблизительно до 1500) и больших (приблизительно после 2500) платежей уменьшилась, при этом выросла доля средних (приблизительно 2000).<br>\n",
    "Для дальнейшего применения статистических оценщиков посмотрим на нормальность распределений:"
   ]
  },
  {
   "cell_type": "code",
   "execution_count": 23,
   "metadata": {},
   "outputs": [
    {
     "data": {
      "text/plain": [
       "NormaltestResult(statistic=2240.5957974074026, pvalue=0.0)"
      ]
     },
     "execution_count": 23,
     "metadata": {},
     "output_type": "execute_result"
    }
   ],
   "source": [
    "stats.normaltest(df.query('grp == \"A\"').rev)"
   ]
  },
  {
   "cell_type": "code",
   "execution_count": 24,
   "metadata": {},
   "outputs": [
    {
     "data": {
      "text/plain": [
       "NormaltestResult(statistic=7797.399211581946, pvalue=0.0)"
      ]
     },
     "execution_count": 24,
     "metadata": {},
     "output_type": "execute_result"
    }
   ],
   "source": [
    "stats.normaltest(df.query('grp == \"B\"').rev)"
   ]
  },
  {
   "cell_type": "markdown",
   "metadata": {},
   "source": [
    "Поскольку распределения значительно (p < 0,05) отличаются от нормальных, представляется разумным использовать вместо теста Стьюдента непараметрический тест Манна-Уитни для оценки различия в ARPU и средних чеках (=ARPPU)."
   ]
  },
  {
   "cell_type": "code",
   "execution_count": 25,
   "metadata": {},
   "outputs": [
    {
     "data": {
      "text/plain": [
       "MannwhitneyuResult(statistic=5252113.0, pvalue=0.5099747992861601)"
      ]
     },
     "execution_count": 25,
     "metadata": {},
     "output_type": "execute_result"
    }
   ],
   "source": [
    "stats.mannwhitneyu(df.query('grp == \"A\"').rev, df.query('grp == \"B\"').rev)\n",
    "#сравнение средних по всем пользователям = ARPU"
   ]
  },
  {
   "cell_type": "code",
   "execution_count": 26,
   "metadata": {},
   "outputs": [
    {
     "data": {
      "text/plain": [
       "MannwhitneyuResult(statistic=9001.0, pvalue=0.0002511393831406922)"
      ]
     },
     "execution_count": 26,
     "metadata": {},
     "output_type": "execute_result"
    }
   ],
   "source": [
    "stats.mannwhitneyu(df.query('rev > 0 and grp == \"A\"').rev, df.query('rev > 0 and grp == \"B\"').rev)\n",
    "#сравнение средних по платящим пользователям = ARPPU"
   ]
  },
  {
   "cell_type": "markdown",
   "metadata": {},
   "source": [
    "По Манну-Уитни получается, что в **ARPU** значимых различий между группами **не наблюдается**, но они **наблюдаются** в **ARPPU**"
   ]
  },
  {
   "cell_type": "markdown",
   "metadata": {},
   "source": [
    "Теперь проведём bootstrap по разнице средних: этот метод не требует соблюдения условий нормальности распределений, одинаковости их дисперсий или формы распределения, поэтому отлично подойдёт для наших выборок."
   ]
  },
  {
   "cell_type": "code",
   "execution_count": 27,
   "metadata": {},
   "outputs": [],
   "source": [
    "def get_bootstrap(\n",
    "    data_column_1, # числовые значения первой выборки\n",
    "    data_column_2, # числовые значения второй выборки\n",
    "    boot_it = 10000, # количество бутстрэп-подвыборок\n",
    "    statistic = np.mean, # интересующая нас статистика\n",
    "    bootstrap_conf_level = 0.95 # уровень значимости\n",
    "):\n",
    "    boot_data = []\n",
    "    for i in range(boot_it): # извлекаем подвыборки\n",
    "        samples_1 = data_column_1.sample(\n",
    "            len(data_column_1), \n",
    "            replace = True # параметр возвращения\n",
    "        ).values\n",
    "        \n",
    "        samples_2 = data_column_2.sample(\n",
    "            len(data_column_1), \n",
    "            replace = True\n",
    "        ).values\n",
    "        \n",
    "        boot_data.append(statistic(samples_1)-statistic(samples_2)) #применяем статистику\n",
    "        \n",
    "    pd_boot_data = pd.DataFrame(boot_data)\n",
    "        \n",
    "    left_quant = (1 - bootstrap_conf_level)/2\n",
    "    right_quant = 1 - (1 - bootstrap_conf_level) / 2\n",
    "    quants = pd_boot_data.quantile([left_quant, right_quant])\n",
    "        \n",
    "    p_1 = stats.norm.cdf(\n",
    "        x = 0, \n",
    "        loc = statistic(boot_data), \n",
    "        scale = np.std(boot_data)\n",
    "    )\n",
    "    p_2 = stats.norm.cdf(\n",
    "        x = 0, \n",
    "        loc = -statistic(boot_data), \n",
    "        scale = np.std(boot_data)\n",
    "    )\n",
    "    p_value = min(p_1, p_2) * 2\n",
    "       \n",
    "    return {\"boot_data\": boot_data, \n",
    "            \"quants\": quants, \n",
    "            \"p_value\": p_value}"
   ]
  },
  {
   "cell_type": "code",
   "execution_count": 28,
   "metadata": {},
   "outputs": [
    {
     "data": {
      "text/plain": [
       "0.32420082669162276"
      ]
     },
     "execution_count": 28,
     "metadata": {},
     "output_type": "execute_result"
    }
   ],
   "source": [
    "booted_data_arpu = get_bootstrap(df.query('grp == \"A\"').rev, df.query('grp == \"B\"').rev)\n",
    "booted_data_arpu[\"p_value\"]\n",
    "#ARPU"
   ]
  },
  {
   "cell_type": "code",
   "execution_count": 29,
   "metadata": {},
   "outputs": [
    {
     "data": {
      "text/plain": [
       "0.01894353214663838"
      ]
     },
     "execution_count": 29,
     "metadata": {},
     "output_type": "execute_result"
    }
   ],
   "source": [
    "booted_data_arppu = get_bootstrap(df.query('rev > 0 and grp == \"A\"').rev, df.query('rev > 0 and grp == \"B\"').rev)\n",
    "booted_data_arppu[\"p_value\"]\n",
    "#ARPPU"
   ]
  },
  {
   "cell_type": "markdown",
   "metadata": {},
   "source": [
    "Результаты bootstrap также согласуются с результатами теста Манна-Уитни.\n",
    "\n",
    "Таким образом, можно утверждать, что **ARPPU** в целевой группе статистически значимо **больше**, чем в контрольной группе, при этом **ARPU** между группами **не различается**.<br>\n",
    "Физический смысл: платящие пользователи благодаря новой механике начали платить больше, но не платящих она не привлекла совершить покупку."
   ]
  },
  {
   "cell_type": "markdown",
   "metadata": {},
   "source": [
    "Также можно проверить с изменение медианного чека платящих пользователей: медиана лучше отобразит тенденцию с учётом выбросов (изменения доли средних транзакций в целевой группе)"
   ]
  },
  {
   "cell_type": "code",
   "execution_count": 30,
   "metadata": {},
   "outputs": [
    {
     "data": {
      "text/plain": [
       "0.13794330434297292"
      ]
     },
     "execution_count": 30,
     "metadata": {},
     "output_type": "execute_result"
    }
   ],
   "source": [
    "booted_data_median_rppu = get_bootstrap(df.query('rev > 0 and grp == \"A\"').rev, df.query('rev > 0 and grp == \"B\"').rev,\n",
    "                                        statistic = np.median)\n",
    "booted_data_median_rppu[\"p_value\"]\n",
    "#медианный чек"
   ]
  },
  {
   "cell_type": "markdown",
   "metadata": {},
   "source": [
    "По результатам bootstrap **медианный чек** значимо **не изменился**. Возможно, увеличение ARPPU объясняется **случайными факторами**: к примеру, в целевую группу попали люди, которые провели какие-то регулярные платежи со средним чеком 2000."
   ]
  },
  {
   "cell_type": "markdown",
   "metadata": {},
   "source": [
    "Теперь посмотрим на конверсию: насколько её уменьшение в целевой группе статистически значимо? <br>\n",
    "Для этого посмотрим распределение сконвертировавшихся пользователей по группам.<br>\n",
    "Для наших данных это фактически распределение категориальной переменной: совершил пользователь покупку или нет.<br>\n",
    "Составим соответствующую таблицу сопряжённости:"
   ]
  },
  {
   "cell_type": "code",
   "execution_count": 31,
   "metadata": {},
   "outputs": [],
   "source": [
    "conv = pd.DataFrame()\n",
    "conv['converted'] = df.query('rev > 0').groupby('grp').agg({'student_id': 'count'}).student_id\n",
    "conv['not_converted'] = df.query('rev == 0').groupby('grp').agg({'student_id': 'count'}).student_id"
   ]
  },
  {
   "cell_type": "code",
   "execution_count": 32,
   "metadata": {},
   "outputs": [
    {
     "data": {
      "text/html": [
       "<div>\n",
       "<style scoped>\n",
       "    .dataframe tbody tr th:only-of-type {\n",
       "        vertical-align: middle;\n",
       "    }\n",
       "\n",
       "    .dataframe tbody tr th {\n",
       "        vertical-align: top;\n",
       "    }\n",
       "\n",
       "    .dataframe thead th {\n",
       "        text-align: right;\n",
       "    }\n",
       "</style>\n",
       "<table border=\"1\" class=\"dataframe\">\n",
       "  <thead>\n",
       "    <tr style=\"text-align: right;\">\n",
       "      <th></th>\n",
       "      <th>converted</th>\n",
       "      <th>not_converted</th>\n",
       "    </tr>\n",
       "  </thead>\n",
       "  <tbody>\n",
       "    <tr>\n",
       "      <th>A</th>\n",
       "      <td>78</td>\n",
       "      <td>1460</td>\n",
       "    </tr>\n",
       "    <tr>\n",
       "      <th>B</th>\n",
       "      <td>314</td>\n",
       "      <td>6489</td>\n",
       "    </tr>\n",
       "  </tbody>\n",
       "</table>\n",
       "</div>"
      ],
      "text/plain": [
       "   converted  not_converted\n",
       "A         78           1460\n",
       "B        314           6489"
      ]
     },
     "execution_count": 32,
     "metadata": {},
     "output_type": "execute_result"
    }
   ],
   "source": [
    "conv"
   ]
  },
  {
   "cell_type": "markdown",
   "metadata": {},
   "source": [
    "Теперь применим к нашему распределению критерий хи-квадрат Пирсона:"
   ]
  },
  {
   "cell_type": "code",
   "execution_count": 33,
   "metadata": {},
   "outputs": [
    {
     "data": {
      "text/plain": [
       "0.48625240457231045"
      ]
     },
     "execution_count": 33,
     "metadata": {},
     "output_type": "execute_result"
    }
   ],
   "source": [
    "chi2, p, dof, ex = stats.chi2_contingency(conv)\n",
    "p\n",
    "#p-value теста хи-квадрат для нашего распределения"
   ]
  },
  {
   "cell_type": "markdown",
   "metadata": {},
   "source": [
    "Видим, что распределение конверсии в покупку значимо **не изменилось**."
   ]
  },
  {
   "cell_type": "markdown",
   "metadata": {},
   "source": [
    "Получается, что в эксперименте **изменилось** поведение **платящих** пользователей (**вырос** **ARPPU**, видно **изменение** распределения чеков, однако **медианный чек** значимо **не изменился**, поэтому нельзя сказать об однозначном влиянии новой платёжной системы на платежи пользователей).<br>\n",
    "При этом поведение **неплатящих** пользователей за время эксперимента **не изменилось** (**ARPU** и **CR** остались **прежними**).<br>\n",
    "При проверке данных по датафрейму groups без group_add ситуация не меняется, то есть, дополнительные данные не внесли статистически значимых различий.<br>\n",
    "При этом нельзя не заметить, что система сплита работает не вполне корректно: целевая группа получилась в 4 раза больше контрольной, притом, что существуют данные по активности большой (на порядок больше) группы пользователей, не вошедших в эксперимент. Данными по их платежам можно было бы обогатить контрольную группу, чтобы сгладить разницу между выборками и проверить результаты на большем количестве данных.<br>\n",
    "Кроме того, все пользователи, вошедшие в эксперимент, оплатили покупки за время эксперимента только один раз, что не позволяет оценить количество повторных покупок и скорректировать значение среднего чека.<br>\n",
    "Я бы порекомендовала **продолжить** эксперимент с донабором контрольной группы и последующей проверкой целевых метрик (**CR, ARPU, ARPPU, медианный чек**, вероятно, что при большем наборе данных можно будет проверить также изменение **повторных покупок** и с его учётом - скорректировать оценку **среднего чека**). Это позволит оценить результаты эксперимента более корректно и полно.<br>\n",
    "По имеющимся данным я бы **не рекомендовала** запуск новой платёжной системы на всех пользователей, поскольку в них значимо выросла только метрика среднего чека/ARPPU, которая не подтверждается данными по медианному чеку, поэтому нельзя однозначно сказать, что новая платёжная система значимо повлияла на поведение пользователей и рост общей выручки."
   ]
  },
  {
   "cell_type": "markdown",
   "metadata": {},
   "source": [
    "<h3>Задание 2. SQL</h3>\n",
    "\n",
    "Все данные находятся в табличном виде в Clickhouse.\n",
    "\n",
    "<h4>2.1 Очень усердные ученики<br>\n",
    "\n",
    "2.1.1 Условие</h4>\n",
    "Образовательные курсы состоят из различных уроков, каждый из которых состоит из нескольких маленьких заданий. Каждое такое маленькое задание называется \"горошиной\".<br>\n",
    "Назовём очень усердным учеником того пользователя, который хотя бы раз за текущий месяц <strong>правильно</strong> решил 20 горошин.\n",
    "<h4>2.1.2 Задача</h4>\n",
    "<p>Дана таблица <strong>default.peas</strong>:</p>\n"
   ]
  },
  {
   "cell_type": "markdown",
   "metadata": {},
   "source": [
    "| Название атрибута | Тип атрибута | Cмысловое значение |\n",
    "| :----:  | :----:  | :----:  |\n",
    "| st_id | int | ID ученика | \n",
    "| timest | timestamp | Время решения карточки |\n",
    "| correct | bool | Правильно ли решена горошина? | \n",
    "| subject | text | Дисциплина, в которой находится горошина |"
   ]
  },
  {
   "cell_type": "markdown",
   "metadata": {},
   "source": [
    "<p>Необходимо написать <strong>оптимальный</strong> запрос, который даст информацию о количестве очень усердных студентов.</p>"
   ]
  },
  {
   "cell_type": "markdown",
   "metadata": {},
   "source": [
    "<h4>Решение:</h4>"
   ]
  },
  {
   "cell_type": "markdown",
   "metadata": {},
   "source": [
    "```sql\n",
    "SELECT st_id\n",
    "FROM default.peas\n",
    "WHERE month(timest) = month(now()) AND year(timest) = year(now())\n",
    "GROUP BY st_id\n",
    "HAVING SUM(correct) >= 20\n",
    "```"
   ]
  },
  {
   "cell_type": "markdown",
   "metadata": {},
   "source": [
    "Количество строк в выдаче равно количеству очень усердных студентов.<br>\n",
    "По имеющимся данным (данных по текущему месяцу нет, проверялось на октябре 2021 года) получается 136 очень усердных студентов."
   ]
  },
  {
   "cell_type": "markdown",
   "metadata": {},
   "source": [
    "<h3>2.2 Оптимизация воронки</h3>\n",
    "<h4>2.2.1 Условие</h4>\n",
    "\n",
    "Образовательная платформа предлагает пройти студентам курсы по модели trial: студент может решить бесплатно лишь 30 горошин в день. Для неограниченного количества заданий в определенной дисциплине студенту необходимо приобрести полный доступ. Команда провела эксперимент, где был протестирован новый экран оплаты.\n",
    "<h4>2.2.2 Задача</h4>\n",
    "\n",
    "Даны таблицы: **default.peas** (см. выше), **default.studs**:"
   ]
  },
  {
   "cell_type": "markdown",
   "metadata": {},
   "source": [
    "| Название атрибута | Тип атрибута | Смысловое значение |\n",
    "| :----:  | :----:  | :----:  |\n",
    "| st_id | int | ID ученика |\n",
    "| test_grp | text | Метка ученика в данном эксперименте |"
   ]
  },
  {
   "cell_type": "markdown",
   "metadata": {},
   "source": [
    "и **default.final_project_check**:"
   ]
  },
  {
   "cell_type": "markdown",
   "metadata": {},
   "source": [
    "| Название атрибута | Тип атрибута | Смысловое значение |\n",
    "| :----:  | :----:  | :----:  |\n",
    "| st_id | int | ID ученика |\n",
    "| sale_time | timestamp | Время покупки |\n",
    "| money | int | Цена, по которой приобрели данный курс |\n",
    "| subject | text | Дисциплина, на которую приобрели полный доступ |"
   ]
  },
  {
   "cell_type": "markdown",
   "metadata": {},
   "source": [
    "Необходимо в **одном запросе** выгрузить следующую информацию о группах пользователей:\n",
    "<ul>\n",
    "  <li>ARPU</li>\n",
    "  <li>ARPAU</li>\n",
    "  <li>CR в покупку</li>\n",
    "  <li>СR активного пользователя в покупку\n",
    "  <li>CR пользователя из активности по математике (subject = 'math') в покупку курса по математике</li>\n",
    "</ul>\n",
    "ARPU считается относительно всех пользователей, попавших в группы.\n",
    "\n",
    "**Активным** считается пользователь, за все время решивший больше 10 задач правильно в любых дисциплинах.<br>\n",
    "**Активным по математике** считается пользователь, за все время решивший 2 или больше задач правильно по математике."
   ]
  },
  {
   "cell_type": "markdown",
   "metadata": {},
   "source": [
    "**Решение**:"
   ]
  },
  {
   "cell_type": "markdown",
   "metadata": {},
   "source": [
    "```sql\n",
    "WITH   SUM(correct) AS correct_peas,\n",
    "       sumIf(correct, subject = 'Math') AS correct_math_peas\n",
    "        \n",
    "SELECT test_grp,\n",
    "       round(SUM(money) / uniqExact(st_id)) AS ARPU,\n",
    "       --общая выручка в эксперименте / количество пользователей в эксперименте\n",
    "       round(sumIf(money, is_active = 1) / uniqExactIf(st_id, is_active = 1)) AS ARPAU,\n",
    "       --общая выручка с активных пользователей в эксперименте / количество активных пользователей в эксперименте\n",
    "       round(uniqExactIf(st_id, money > 0) / uniqExact(st_id)  * 100, 2) AS CR,\n",
    "       --количество платящих пользователей в эксперименте / количество пользователей в эксперименте\n",
    "       round(uniqExactIf(st_id, is_active = 1 AND money > 0) / uniqExactIf(st_id, is_active = 1)  * 100, 2) AS CR_active,\n",
    "       --количество активных платящих пользователей в эксперименте / количество активных пользователей в эксперименте\n",
    "       round(uniqExactIf(st_id, subject_paid = 'Math') / uniqExactIf(st_id, is_active_in_math = 1)  * 100, 2) AS CR_active_in_math\n",
    "       --количество активных по математике платящих пользователей в эксперименте / количество активных по математике пользователей в эксперименте\n",
    "FROM\n",
    "(\n",
    "    SELECT st_id, test_grp, is_active, is_active_in_math\n",
    "    FROM default.studs AS a\n",
    "    LEFT JOIN\n",
    "        (SELECT st_id,\n",
    "         (CASE WHEN correct_peas > 10 THEN 1 ELSE 0 END) AS is_active,\n",
    "         (CASE WHEN correct_math_peas >= 2 THEN 1 ELSE 0 END) AS is_active_in_math\n",
    "         FROM default.peas\n",
    "         GROUP BY st_id\n",
    "        ) AS b ON a.st_id = b.st_id\n",
    ") AS l\n",
    "LEFT JOIN \n",
    "(\n",
    "    SELECT subject AS subject_paid, money, st_id AS paid_st_id\n",
    "    FROM default.final_project_check\n",
    ") AS r ON l.st_id = r.paid_st_id\n",
    "GROUP BY test_grp\n",
    "```"
   ]
  },
  {
   "cell_type": "markdown",
   "metadata": {},
   "source": [
    "Результат на имеющихся данных:"
   ]
  },
  {
   "cell_type": "markdown",
   "metadata": {},
   "source": [
    "| test_grp | ARPU | ARPAU | CR | CR_active | CR_active_in_math |\n",
    "| :----:  | :----:  | :----:  | :----:  | :----:  | :----:  |\n",
    "|control|4541|10394|4.92|11.02|16.33|\n",
    "|pilot|11508|29740|10.85|26.04|38.1|"
   ]
  },
  {
   "cell_type": "markdown",
   "metadata": {},
   "source": [
    "<h3>Задание 3. Python</h3>\n",
    "<h4>3.1 Задача</h4>\n",
    "\n",
    "1. Реализуйте функцию, которая будет автоматически подгружать информацию из дополнительного файла **groups_add.csv** (заголовки могут отличаться) и на основании дополнительных параметров пересчитывать метрики.  "
   ]
  },
  {
   "cell_type": "code",
   "execution_count": 34,
   "metadata": {},
   "outputs": [],
   "source": [
    "def additional_info(main, path, active, checks): #аргументы: основные датафреймы и путь к добавляемому датафрейму\n",
    "    add = pd.read_csv(path, header = 0,  index_col = False) #загружаем доп. файл\n",
    "    groups_merged = main.merge(add, how = 'outer').rename(columns = {'id': 'student_id'})\n",
    "    #собираем данные по группам вместе, переименовываем для совместимости с другими датафреймами\n",
    "                                                                            \n",
    "    df_merged = active.merge(groups_merged, how = 'inner').merge(checks, how = 'left').drop_duplicates().fillna(0)\n",
    "    #собираем все данные вместе\n",
    "    \n",
    "    #считаем метрики\n",
    "    df_merged_metrics = pd.DataFrame()\n",
    "    #количество студентов в группах\n",
    "    df_merged_metrics['students'] = df_merged.groupby('grp').agg({'student_id': 'nunique'}).student_id\n",
    "    #количество покупок\n",
    "    df_merged_metrics['purchases'] = df_merged.query('rev > 0').groupby('grp').agg({'student_id': 'nunique'}).student_id\n",
    "    #конверсия\n",
    "    df_merged_metrics['CR'] = np.round(df_merged_metrics.purchases / df_merged_metrics.students * 100, 2)\n",
    "    #ARPU\n",
    "    df_merged_metrics['ARPU'] = np.round(df_merged.groupby('grp').agg({'rev': 'sum'}).rev / df_merged_metrics.students)\n",
    "    #ARPPU\n",
    "    df_merged_metrics['ARPPU'] = np.round(df_merged.query('rev > 0').groupby('grp').agg({'rev': 'sum'}).rev / df_merged_metrics.purchases)\n",
    "    return df_merged_metrics"
   ]
  },
  {
   "cell_type": "markdown",
   "metadata": {},
   "source": [
    "Проверим работу функции на основных (groups, active_studs, checks) и дополнительных (group_add) данных из первого задания:"
   ]
  },
  {
   "cell_type": "code",
   "execution_count": 35,
   "metadata": {},
   "outputs": [],
   "source": [
    "#здесь путь к файлам реализован из папки, но можно использовать соответствующие библиотеки для загрузки по ссылке\n",
    "main = pd.read_csv('/mnt/HC_Volume_18315164/home-jupyter/jupyter-v-petrova-25/FINAL/Проект_2_groups.csv', sep = ';')\n",
    "path = '/mnt/HC_Volume_18315164/home-jupyter/jupyter-v-petrova-25/FINAL/Проект_2_group_add.csv'\n",
    "active = pd.read_csv('/mnt/HC_Volume_18315164/home-jupyter/jupyter-v-petrova-25/FINAL/Проект_2_active_studs.csv')\n",
    "checks = pd.read_csv('/mnt/HC_Volume_18315164/home-jupyter/jupyter-v-petrova-25/FINAL/Проект_2_checks.csv', sep = ';')"
   ]
  },
  {
   "cell_type": "code",
   "execution_count": 36,
   "metadata": {},
   "outputs": [
    {
     "data": {
      "text/html": [
       "<div>\n",
       "<style scoped>\n",
       "    .dataframe tbody tr th:only-of-type {\n",
       "        vertical-align: middle;\n",
       "    }\n",
       "\n",
       "    .dataframe tbody tr th {\n",
       "        vertical-align: top;\n",
       "    }\n",
       "\n",
       "    .dataframe thead th {\n",
       "        text-align: right;\n",
       "    }\n",
       "</style>\n",
       "<table border=\"1\" class=\"dataframe\">\n",
       "  <thead>\n",
       "    <tr style=\"text-align: right;\">\n",
       "      <th></th>\n",
       "      <th>students</th>\n",
       "      <th>purchases</th>\n",
       "      <th>CR</th>\n",
       "      <th>ARPU</th>\n",
       "      <th>ARPPU</th>\n",
       "    </tr>\n",
       "  </thead>\n",
       "  <tbody>\n",
       "    <tr>\n",
       "      <th>A</th>\n",
       "      <td>1538</td>\n",
       "      <td>78</td>\n",
       "      <td>5.07</td>\n",
       "      <td>47.0</td>\n",
       "      <td>934.0</td>\n",
       "    </tr>\n",
       "    <tr>\n",
       "      <th>B</th>\n",
       "      <td>6803</td>\n",
       "      <td>314</td>\n",
       "      <td>4.62</td>\n",
       "      <td>58.0</td>\n",
       "      <td>1258.0</td>\n",
       "    </tr>\n",
       "  </tbody>\n",
       "</table>\n",
       "</div>"
      ],
      "text/plain": [
       "   students  purchases    CR  ARPU   ARPPU\n",
       "A      1538         78  5.07  47.0   934.0\n",
       "B      6803        314  4.62  58.0  1258.0"
      ]
     },
     "execution_count": 36,
     "metadata": {},
     "output_type": "execute_result"
    }
   ],
   "source": [
    "df_merged_metrics = additional_info(main, path, active, checks)\n",
    "df_merged_metrics"
   ]
  },
  {
   "cell_type": "markdown",
   "metadata": {},
   "source": [
    "2. Реализуйте функцию, которая будет строить графики по получаемым метрикам."
   ]
  },
  {
   "cell_type": "code",
   "execution_count": 37,
   "metadata": {},
   "outputs": [],
   "source": [
    "def metrics_plots(df_merged_metrics):\n",
    "    fig, axs = plt.subplots(1, 3, figsize = (15, 5))\n",
    "    cr = sns.barplot(ax=axs[0], x = df_merged_metrics.index, y = df_merged_metrics.CR)\n",
    "    cr.set(ylabel='', title = 'CR')\n",
    "    arpu = sns.barplot(ax=axs[1], x = df_merged_metrics.index, y = df_merged_metrics.ARPU)\n",
    "    arpu.set(ylabel='', title = 'ARPU')\n",
    "    arppu = sns.barplot(ax=axs[2], x = df_merged_metrics.index, y = df_merged_metrics.ARPPU)\n",
    "    arppu.set(ylabel='', title = 'ARPPU')\n",
    "    return plt.show()"
   ]
  },
  {
   "cell_type": "markdown",
   "metadata": {},
   "source": [
    "Пример выполнения функции на датафрейме, полученном на предыдущем шаге:"
   ]
  },
  {
   "cell_type": "code",
   "execution_count": 38,
   "metadata": {},
   "outputs": [
    {
     "data": {
      "image/png": "[encoded data removed]",
      "text/plain": [
       "<Figure size 1080x360 with 3 Axes>"
      ]
     },
     "metadata": {
      "needs_background": "light"
     },
     "output_type": "display_data"
    }
   ],
   "source": [
    "metrics_plots(df_merged_metrics)"
   ]
  }
 ],
 "metadata": {
  "kernelspec": {
   "display_name": "Python 3",
   "language": "python",
   "name": "python3"
  },
  "language_info": {
   "codemirror_mode": {
    "name": "ipython",
    "version": 3
   },
   "file_extension": ".py",
   "mimetype": "text/x-python",
   "name": "python",
   "nbconvert_exporter": "python",
   "pygments_lexer": "ipython3",
   "version": "3.7.3"
  }
 },
 "nbformat": 4,
 "nbformat_minor": 4
}
